{
 "cells": [
  {
   "cell_type": "code",
   "execution_count": 1,
   "metadata": {
    "tags": []
   },
   "outputs": [
    {
     "name": "stdout",
     "output_type": "stream",
     "text": [
      "Note: you may need to restart the kernel to use updated packages.\n"
     ]
    }
   ],
   "source": [
    "%pip install -r requirements.txt -Uq"
   ]
  },
  {
   "cell_type": "code",
   "execution_count": 2,
   "metadata": {
    "tags": []
   },
   "outputs": [],
   "source": [
    "# import the class modules that support the Text to SQL pipeline\n",
    "import app_constants as app_consts\n",
    "import identity_service_facade\n",
    "import llm_facade\n",
    "import rdbms_facade\n",
    "\n",
    "import pre_process_request\n",
    "import prepare_request\n",
    "import test_cases"
   ]
  },
  {
   "cell_type": "code",
   "execution_count": 3,
   "metadata": {
    "collapsed": false,
    "jupyter": {
     "outputs_hidden": false
    },
    "tags": []
   },
   "outputs": [],
   "source": [
    "# Instantiate objects for the classes that will be used\n",
    "test_user_requests = test_cases.TestCases()\n",
    "llm_service_facade = llm_facade.LlmFacade(app_consts.BEDROCK_MODEL_ID)\n",
    "id_service_facade = identity_service_facade.IdentityServiceFacade()\n",
    "rdbms_service_facade = rdbms_facade.RdbmsFacade()\n",
    "\n",
    "request_pre_processor = pre_process_request.PreProcessRequest(llm_service_facade)\n",
    "request_preparer = prepare_request.PrepareRequest()"
   ]
  },
  {
   "cell_type": "markdown",
   "metadata": {},
   "source": [
    "### Pull an example user request from the test set"
   ]
  },
  {
   "cell_type": "code",
   "execution_count": 4,
   "metadata": {
    "ExecuteTime": {
     "end_time": "2024-08-05T20:45:25.449370Z",
     "start_time": "2024-08-05T20:45:25.322877Z"
    },
    "collapsed": false,
    "jupyter": {
     "outputs_hidden": false
    },
    "tags": []
   },
   "outputs": [
    {
     "data": {
      "text/plain": [
       "'In what games did Isabelle Werth, Nedo Nadi and Allyson Felix compete?'"
      ]
     },
     "execution_count": 4,
     "metadata": {},
     "output_type": "execute_result"
    }
   ],
   "source": [
    "user_request = test_user_requests.get_test_case(4)\n",
    "user_request"
   ]
  },
  {
   "cell_type": "markdown",
   "metadata": {},
   "source": [
    "### Step 1 - Pre-process the use request, determine their domain, and if there are identifiers that need to be mapped to IDs"
   ]
  },
  {
   "cell_type": "code",
   "execution_count": 5,
   "metadata": {
    "tags": []
   },
   "outputs": [
    {
     "ename": "NoCredentialsError",
     "evalue": "Unable to locate credentials",
     "output_type": "error",
     "traceback": [
      "\u001b[0;31m---------------------------------------------------------------------------\u001b[0m",
      "\u001b[0;31mNoCredentialsError\u001b[0m                        Traceback (most recent call last)",
      "Input \u001b[0;32mIn [5]\u001b[0m, in \u001b[0;36m<cell line: 1>\u001b[0;34m()\u001b[0m\n\u001b[0;32m----> 1\u001b[0m pre_processed_request \u001b[38;5;241m=\u001b[39m \u001b[43mrequest_pre_processor\u001b[49m\u001b[38;5;241;43m.\u001b[39;49m\u001b[43mrun\u001b[49m\u001b[43m(\u001b[49m\u001b[43muser_request\u001b[49m\u001b[43m)\u001b[49m\n\u001b[1;32m      2\u001b[0m domain \u001b[38;5;241m=\u001b[39m pre_processed_request[app_consts\u001b[38;5;241m.\u001b[39mDOMAIN]\n\u001b[1;32m      3\u001b[0m pre_processed_request\n",
      "File \u001b[0;32m~/workarea/ON-GITHUB/blog-natural-language-data-retrieval/pre_process_request.py:23\u001b[0m, in \u001b[0;36mPreProcessRequest.run\u001b[0;34m(self, user_request)\u001b[0m\n\u001b[1;32m     19\u001b[0m \u001b[38;5;28;01mdef\u001b[39;00m \u001b[38;5;21mrun\u001b[39m(\u001b[38;5;28mself\u001b[39m, user_request: \u001b[38;5;28mstr\u001b[39m):\n\u001b[1;32m     20\u001b[0m     \u001b[38;5;66;03m# create a dictionary to store the pre-processed request\u001b[39;00m\n\u001b[1;32m     21\u001b[0m     \u001b[38;5;66;03m# the input, the domain of the input and identifiers found in the input\u001b[39;00m\n\u001b[1;32m     22\u001b[0m     pre_processed_request \u001b[38;5;241m=\u001b[39m {app_consts\u001b[38;5;241m.\u001b[39mUSER_QUERY: user_request,\n\u001b[0;32m---> 23\u001b[0m                              app_consts\u001b[38;5;241m.\u001b[39mDOMAIN: \u001b[38;5;28;43mself\u001b[39;49m\u001b[38;5;241;43m.\u001b[39;49m\u001b[43mdetermine_domain\u001b[49m\u001b[43m(\u001b[49m\u001b[43muser_request\u001b[49m\u001b[43m)\u001b[49m,\n\u001b[1;32m     24\u001b[0m                              app_consts\u001b[38;5;241m.\u001b[39mNAMED_RESOURCES: \u001b[38;5;28mself\u001b[39m\u001b[38;5;241m.\u001b[39mget_named_resources_from_user_request(user_request)}\n\u001b[1;32m     26\u001b[0m     \u001b[38;5;28;01mreturn\u001b[39;00m pre_processed_request\n",
      "File \u001b[0;32m~/workarea/ON-GITHUB/blog-natural-language-data-retrieval/pre_process_request.py:30\u001b[0m, in \u001b[0;36mPreProcessRequest.determine_domain\u001b[0;34m(self, user_request)\u001b[0m\n\u001b[1;32m     28\u001b[0m \u001b[38;5;28;01mdef\u001b[39;00m \u001b[38;5;21mdetermine_domain\u001b[39m(\u001b[38;5;28mself\u001b[39m, user_request: \u001b[38;5;28mstr\u001b[39m):\n\u001b[1;32m     29\u001b[0m     prompt \u001b[38;5;241m=\u001b[39m app_consts\u001b[38;5;241m.\u001b[39mDOMAIN_CLASSIFICATION_PROMPT \u001b[38;5;241m+\u001b[39m user_request \u001b[38;5;241m+\u001b[39m \u001b[38;5;124m\"\u001b[39m\u001b[38;5;130;01m\\n\u001b[39;00m\u001b[38;5;124m\"\u001b[39m\n\u001b[0;32m---> 30\u001b[0m     domain_inference \u001b[38;5;241m=\u001b[39m \u001b[38;5;28;43mself\u001b[39;49m\u001b[38;5;241;43m.\u001b[39;49m\u001b[43mllm_inference\u001b[49m\u001b[38;5;241;43m.\u001b[39;49m\u001b[43minvoke\u001b[49m\u001b[43m(\u001b[49m\u001b[43mprompt\u001b[49m\u001b[43m)\u001b[49m\n\u001b[1;32m     32\u001b[0m     \u001b[38;5;28;01mif\u001b[39;00m domain_inference[app_consts\u001b[38;5;241m.\u001b[39mPROCESSING_STATUS] \u001b[38;5;241m==\u001b[39m \u001b[38;5;124m\"\u001b[39m\u001b[38;5;124mFAILURE\u001b[39m\u001b[38;5;124m\"\u001b[39m:\n\u001b[1;32m     33\u001b[0m         \u001b[38;5;28;01mreturn\u001b[39;00m domains\u001b[38;5;241m.\u001b[39mDOMAIN_UNKNOWN\n",
      "File \u001b[0;32m~/workarea/ON-GITHUB/blog-natural-language-data-retrieval/llm_facade.py:26\u001b[0m, in \u001b[0;36mLlmFacade.invoke\u001b[0;34m(self, llm_prompt)\u001b[0m\n\u001b[1;32m     23\u001b[0m generated_json \u001b[38;5;241m=\u001b[39m {}\n\u001b[1;32m     25\u001b[0m \u001b[38;5;66;03m# call the Bedrock llm service with the llm_prompt\u001b[39;00m\n\u001b[0;32m---> 26\u001b[0m llm_output \u001b[38;5;241m=\u001b[39m \u001b[38;5;28;43mself\u001b[39;49m\u001b[38;5;241;43m.\u001b[39;49m\u001b[43mquery_bedrock\u001b[49m\u001b[43m(\u001b[49m\u001b[43mllm_prompt\u001b[49m\u001b[43m)\u001b[49m\n\u001b[1;32m     28\u001b[0m \u001b[38;5;66;03m# add the SQL output to the dictionary\u001b[39;00m\n\u001b[1;32m     29\u001b[0m generated_json[app_consts\u001b[38;5;241m.\u001b[39mLLM_OUTPUT] \u001b[38;5;241m=\u001b[39m llm_output\n",
      "File \u001b[0;32m~/workarea/ON-GITHUB/blog-natural-language-data-retrieval/llm_facade.py:74\u001b[0m, in \u001b[0;36mLlmFacade.query_bedrock\u001b[0;34m(self, payload)\u001b[0m\n\u001b[1;32m     72\u001b[0m \u001b[38;5;66;03m# Send a request to the Bedrock client to generate a response\u001b[39;00m\n\u001b[1;32m     73\u001b[0m \u001b[38;5;28;01mtry\u001b[39;00m:\n\u001b[0;32m---> 74\u001b[0m     response \u001b[38;5;241m=\u001b[39m \u001b[43mbedrock_client\u001b[49m\u001b[38;5;241;43m.\u001b[39;49m\u001b[43mconverse\u001b[49m\u001b[43m(\u001b[49m\u001b[38;5;241;43m*\u001b[39;49m\u001b[38;5;241;43m*\u001b[39;49m\u001b[43mconverse_api_params\u001b[49m\u001b[43m)\u001b[49m\n\u001b[1;32m     76\u001b[0m     \u001b[38;5;66;03m# Extract the generated text content from the response\u001b[39;00m\n\u001b[1;32m     77\u001b[0m     completion \u001b[38;5;241m=\u001b[39m response[\u001b[38;5;124m'\u001b[39m\u001b[38;5;124moutput\u001b[39m\u001b[38;5;124m'\u001b[39m][\u001b[38;5;124m'\u001b[39m\u001b[38;5;124mmessage\u001b[39m\u001b[38;5;124m'\u001b[39m][\u001b[38;5;124m'\u001b[39m\u001b[38;5;124mcontent\u001b[39m\u001b[38;5;124m'\u001b[39m][\u001b[38;5;241m0\u001b[39m][\u001b[38;5;124m'\u001b[39m\u001b[38;5;124mtext\u001b[39m\u001b[38;5;124m'\u001b[39m]\n",
      "File \u001b[0;32m~/anaconda3/envs/pytorch-nl2sql-py39/lib/python3.9/site-packages/botocore/client.py:569\u001b[0m, in \u001b[0;36mClientCreator._create_api_method.<locals>._api_call\u001b[0;34m(self, *args, **kwargs)\u001b[0m\n\u001b[1;32m    565\u001b[0m     \u001b[38;5;28;01mraise\u001b[39;00m \u001b[38;5;167;01mTypeError\u001b[39;00m(\n\u001b[1;32m    566\u001b[0m         \u001b[38;5;124mf\u001b[39m\u001b[38;5;124m\"\u001b[39m\u001b[38;5;132;01m{\u001b[39;00mpy_operation_name\u001b[38;5;132;01m}\u001b[39;00m\u001b[38;5;124m() only accepts keyword arguments.\u001b[39m\u001b[38;5;124m\"\u001b[39m\n\u001b[1;32m    567\u001b[0m     )\n\u001b[1;32m    568\u001b[0m \u001b[38;5;66;03m# The \"self\" in this scope is referring to the BaseClient.\u001b[39;00m\n\u001b[0;32m--> 569\u001b[0m \u001b[38;5;28;01mreturn\u001b[39;00m \u001b[38;5;28;43mself\u001b[39;49m\u001b[38;5;241;43m.\u001b[39;49m\u001b[43m_make_api_call\u001b[49m\u001b[43m(\u001b[49m\u001b[43moperation_name\u001b[49m\u001b[43m,\u001b[49m\u001b[43m \u001b[49m\u001b[43mkwargs\u001b[49m\u001b[43m)\u001b[49m\n",
      "File \u001b[0;32m~/anaconda3/envs/pytorch-nl2sql-py39/lib/python3.9/site-packages/botocore/client.py:1005\u001b[0m, in \u001b[0;36mBaseClient._make_api_call\u001b[0;34m(self, operation_name, api_params)\u001b[0m\n\u001b[1;32m   1001\u001b[0m     maybe_compress_request(\n\u001b[1;32m   1002\u001b[0m         \u001b[38;5;28mself\u001b[39m\u001b[38;5;241m.\u001b[39mmeta\u001b[38;5;241m.\u001b[39mconfig, request_dict, operation_model\n\u001b[1;32m   1003\u001b[0m     )\n\u001b[1;32m   1004\u001b[0m     apply_request_checksum(request_dict)\n\u001b[0;32m-> 1005\u001b[0m     http, parsed_response \u001b[38;5;241m=\u001b[39m \u001b[38;5;28;43mself\u001b[39;49m\u001b[38;5;241;43m.\u001b[39;49m\u001b[43m_make_request\u001b[49m\u001b[43m(\u001b[49m\n\u001b[1;32m   1006\u001b[0m \u001b[43m        \u001b[49m\u001b[43moperation_model\u001b[49m\u001b[43m,\u001b[49m\u001b[43m \u001b[49m\u001b[43mrequest_dict\u001b[49m\u001b[43m,\u001b[49m\u001b[43m \u001b[49m\u001b[43mrequest_context\u001b[49m\n\u001b[1;32m   1007\u001b[0m \u001b[43m    \u001b[49m\u001b[43m)\u001b[49m\n\u001b[1;32m   1009\u001b[0m \u001b[38;5;28mself\u001b[39m\u001b[38;5;241m.\u001b[39mmeta\u001b[38;5;241m.\u001b[39mevents\u001b[38;5;241m.\u001b[39memit(\n\u001b[1;32m   1010\u001b[0m     \u001b[38;5;124mf\u001b[39m\u001b[38;5;124m'\u001b[39m\u001b[38;5;124mafter-call.\u001b[39m\u001b[38;5;132;01m{\u001b[39;00mservice_id\u001b[38;5;132;01m}\u001b[39;00m\u001b[38;5;124m.\u001b[39m\u001b[38;5;132;01m{\u001b[39;00moperation_name\u001b[38;5;132;01m}\u001b[39;00m\u001b[38;5;124m'\u001b[39m,\n\u001b[1;32m   1011\u001b[0m     http_response\u001b[38;5;241m=\u001b[39mhttp,\n\u001b[0;32m   (...)\u001b[0m\n\u001b[1;32m   1014\u001b[0m     context\u001b[38;5;241m=\u001b[39mrequest_context,\n\u001b[1;32m   1015\u001b[0m )\n\u001b[1;32m   1017\u001b[0m \u001b[38;5;28;01mif\u001b[39;00m http\u001b[38;5;241m.\u001b[39mstatus_code \u001b[38;5;241m>\u001b[39m\u001b[38;5;241m=\u001b[39m \u001b[38;5;241m300\u001b[39m:\n",
      "File \u001b[0;32m~/anaconda3/envs/pytorch-nl2sql-py39/lib/python3.9/site-packages/botocore/client.py:1029\u001b[0m, in \u001b[0;36mBaseClient._make_request\u001b[0;34m(self, operation_model, request_dict, request_context)\u001b[0m\n\u001b[1;32m   1027\u001b[0m \u001b[38;5;28;01mdef\u001b[39;00m \u001b[38;5;21m_make_request\u001b[39m(\u001b[38;5;28mself\u001b[39m, operation_model, request_dict, request_context):\n\u001b[1;32m   1028\u001b[0m     \u001b[38;5;28;01mtry\u001b[39;00m:\n\u001b[0;32m-> 1029\u001b[0m         \u001b[38;5;28;01mreturn\u001b[39;00m \u001b[38;5;28;43mself\u001b[39;49m\u001b[38;5;241;43m.\u001b[39;49m\u001b[43m_endpoint\u001b[49m\u001b[38;5;241;43m.\u001b[39;49m\u001b[43mmake_request\u001b[49m\u001b[43m(\u001b[49m\u001b[43moperation_model\u001b[49m\u001b[43m,\u001b[49m\u001b[43m \u001b[49m\u001b[43mrequest_dict\u001b[49m\u001b[43m)\u001b[49m\n\u001b[1;32m   1030\u001b[0m     \u001b[38;5;28;01mexcept\u001b[39;00m \u001b[38;5;167;01mException\u001b[39;00m \u001b[38;5;28;01mas\u001b[39;00m e:\n\u001b[1;32m   1031\u001b[0m         \u001b[38;5;28mself\u001b[39m\u001b[38;5;241m.\u001b[39mmeta\u001b[38;5;241m.\u001b[39mevents\u001b[38;5;241m.\u001b[39memit(\n\u001b[1;32m   1032\u001b[0m             \u001b[38;5;124mf\u001b[39m\u001b[38;5;124m'\u001b[39m\u001b[38;5;124mafter-call-error.\u001b[39m\u001b[38;5;132;01m{\u001b[39;00m\u001b[38;5;28mself\u001b[39m\u001b[38;5;241m.\u001b[39m_service_model\u001b[38;5;241m.\u001b[39mservice_id\u001b[38;5;241m.\u001b[39mhyphenize()\u001b[38;5;132;01m}\u001b[39;00m\u001b[38;5;124m.\u001b[39m\u001b[38;5;132;01m{\u001b[39;00moperation_model\u001b[38;5;241m.\u001b[39mname\u001b[38;5;132;01m}\u001b[39;00m\u001b[38;5;124m'\u001b[39m,\n\u001b[1;32m   1033\u001b[0m             exception\u001b[38;5;241m=\u001b[39me,\n\u001b[1;32m   1034\u001b[0m             context\u001b[38;5;241m=\u001b[39mrequest_context,\n\u001b[1;32m   1035\u001b[0m         )\n",
      "File \u001b[0;32m~/anaconda3/envs/pytorch-nl2sql-py39/lib/python3.9/site-packages/botocore/endpoint.py:119\u001b[0m, in \u001b[0;36mEndpoint.make_request\u001b[0;34m(self, operation_model, request_dict)\u001b[0m\n\u001b[1;32m    113\u001b[0m \u001b[38;5;28;01mdef\u001b[39;00m \u001b[38;5;21mmake_request\u001b[39m(\u001b[38;5;28mself\u001b[39m, operation_model, request_dict):\n\u001b[1;32m    114\u001b[0m     logger\u001b[38;5;241m.\u001b[39mdebug(\n\u001b[1;32m    115\u001b[0m         \u001b[38;5;124m\"\u001b[39m\u001b[38;5;124mMaking request for \u001b[39m\u001b[38;5;132;01m%s\u001b[39;00m\u001b[38;5;124m with params: \u001b[39m\u001b[38;5;132;01m%s\u001b[39;00m\u001b[38;5;124m\"\u001b[39m,\n\u001b[1;32m    116\u001b[0m         operation_model,\n\u001b[1;32m    117\u001b[0m         request_dict,\n\u001b[1;32m    118\u001b[0m     )\n\u001b[0;32m--> 119\u001b[0m     \u001b[38;5;28;01mreturn\u001b[39;00m \u001b[38;5;28;43mself\u001b[39;49m\u001b[38;5;241;43m.\u001b[39;49m\u001b[43m_send_request\u001b[49m\u001b[43m(\u001b[49m\u001b[43mrequest_dict\u001b[49m\u001b[43m,\u001b[49m\u001b[43m \u001b[49m\u001b[43moperation_model\u001b[49m\u001b[43m)\u001b[49m\n",
      "File \u001b[0;32m~/anaconda3/envs/pytorch-nl2sql-py39/lib/python3.9/site-packages/botocore/endpoint.py:196\u001b[0m, in \u001b[0;36mEndpoint._send_request\u001b[0;34m(self, request_dict, operation_model)\u001b[0m\n\u001b[1;32m    194\u001b[0m context \u001b[38;5;241m=\u001b[39m request_dict[\u001b[38;5;124m'\u001b[39m\u001b[38;5;124mcontext\u001b[39m\u001b[38;5;124m'\u001b[39m]\n\u001b[1;32m    195\u001b[0m \u001b[38;5;28mself\u001b[39m\u001b[38;5;241m.\u001b[39m_update_retries_context(context, attempts)\n\u001b[0;32m--> 196\u001b[0m request \u001b[38;5;241m=\u001b[39m \u001b[38;5;28;43mself\u001b[39;49m\u001b[38;5;241;43m.\u001b[39;49m\u001b[43mcreate_request\u001b[49m\u001b[43m(\u001b[49m\u001b[43mrequest_dict\u001b[49m\u001b[43m,\u001b[49m\u001b[43m \u001b[49m\u001b[43moperation_model\u001b[49m\u001b[43m)\u001b[49m\n\u001b[1;32m    197\u001b[0m success_response, exception \u001b[38;5;241m=\u001b[39m \u001b[38;5;28mself\u001b[39m\u001b[38;5;241m.\u001b[39m_get_response(\n\u001b[1;32m    198\u001b[0m     request, operation_model, context\n\u001b[1;32m    199\u001b[0m )\n\u001b[1;32m    200\u001b[0m \u001b[38;5;28;01mwhile\u001b[39;00m \u001b[38;5;28mself\u001b[39m\u001b[38;5;241m.\u001b[39m_needs_retry(\n\u001b[1;32m    201\u001b[0m     attempts,\n\u001b[1;32m    202\u001b[0m     operation_model,\n\u001b[0;32m   (...)\u001b[0m\n\u001b[1;32m    205\u001b[0m     exception,\n\u001b[1;32m    206\u001b[0m ):\n",
      "File \u001b[0;32m~/anaconda3/envs/pytorch-nl2sql-py39/lib/python3.9/site-packages/botocore/endpoint.py:132\u001b[0m, in \u001b[0;36mEndpoint.create_request\u001b[0;34m(self, params, operation_model)\u001b[0m\n\u001b[1;32m    130\u001b[0m     service_id \u001b[38;5;241m=\u001b[39m operation_model\u001b[38;5;241m.\u001b[39mservice_model\u001b[38;5;241m.\u001b[39mservice_id\u001b[38;5;241m.\u001b[39mhyphenize()\n\u001b[1;32m    131\u001b[0m     event_name \u001b[38;5;241m=\u001b[39m \u001b[38;5;124mf\u001b[39m\u001b[38;5;124m'\u001b[39m\u001b[38;5;124mrequest-created.\u001b[39m\u001b[38;5;132;01m{\u001b[39;00mservice_id\u001b[38;5;132;01m}\u001b[39;00m\u001b[38;5;124m.\u001b[39m\u001b[38;5;132;01m{\u001b[39;00moperation_model\u001b[38;5;241m.\u001b[39mname\u001b[38;5;132;01m}\u001b[39;00m\u001b[38;5;124m'\u001b[39m\n\u001b[0;32m--> 132\u001b[0m     \u001b[38;5;28;43mself\u001b[39;49m\u001b[38;5;241;43m.\u001b[39;49m\u001b[43m_event_emitter\u001b[49m\u001b[38;5;241;43m.\u001b[39;49m\u001b[43memit\u001b[49m\u001b[43m(\u001b[49m\n\u001b[1;32m    133\u001b[0m \u001b[43m        \u001b[49m\u001b[43mevent_name\u001b[49m\u001b[43m,\u001b[49m\n\u001b[1;32m    134\u001b[0m \u001b[43m        \u001b[49m\u001b[43mrequest\u001b[49m\u001b[38;5;241;43m=\u001b[39;49m\u001b[43mrequest\u001b[49m\u001b[43m,\u001b[49m\n\u001b[1;32m    135\u001b[0m \u001b[43m        \u001b[49m\u001b[43moperation_name\u001b[49m\u001b[38;5;241;43m=\u001b[39;49m\u001b[43moperation_model\u001b[49m\u001b[38;5;241;43m.\u001b[39;49m\u001b[43mname\u001b[49m\u001b[43m,\u001b[49m\n\u001b[1;32m    136\u001b[0m \u001b[43m    \u001b[49m\u001b[43m)\u001b[49m\n\u001b[1;32m    137\u001b[0m prepared_request \u001b[38;5;241m=\u001b[39m \u001b[38;5;28mself\u001b[39m\u001b[38;5;241m.\u001b[39mprepare_request(request)\n\u001b[1;32m    138\u001b[0m \u001b[38;5;28;01mreturn\u001b[39;00m prepared_request\n",
      "File \u001b[0;32m~/anaconda3/envs/pytorch-nl2sql-py39/lib/python3.9/site-packages/botocore/hooks.py:412\u001b[0m, in \u001b[0;36mEventAliaser.emit\u001b[0;34m(self, event_name, **kwargs)\u001b[0m\n\u001b[1;32m    410\u001b[0m \u001b[38;5;28;01mdef\u001b[39;00m \u001b[38;5;21memit\u001b[39m(\u001b[38;5;28mself\u001b[39m, event_name, \u001b[38;5;241m*\u001b[39m\u001b[38;5;241m*\u001b[39mkwargs):\n\u001b[1;32m    411\u001b[0m     aliased_event_name \u001b[38;5;241m=\u001b[39m \u001b[38;5;28mself\u001b[39m\u001b[38;5;241m.\u001b[39m_alias_event_name(event_name)\n\u001b[0;32m--> 412\u001b[0m     \u001b[38;5;28;01mreturn\u001b[39;00m \u001b[38;5;28;43mself\u001b[39;49m\u001b[38;5;241;43m.\u001b[39;49m\u001b[43m_emitter\u001b[49m\u001b[38;5;241;43m.\u001b[39;49m\u001b[43memit\u001b[49m\u001b[43m(\u001b[49m\u001b[43maliased_event_name\u001b[49m\u001b[43m,\u001b[49m\u001b[43m \u001b[49m\u001b[38;5;241;43m*\u001b[39;49m\u001b[38;5;241;43m*\u001b[39;49m\u001b[43mkwargs\u001b[49m\u001b[43m)\u001b[49m\n",
      "File \u001b[0;32m~/anaconda3/envs/pytorch-nl2sql-py39/lib/python3.9/site-packages/botocore/hooks.py:256\u001b[0m, in \u001b[0;36mHierarchicalEmitter.emit\u001b[0;34m(self, event_name, **kwargs)\u001b[0m\n\u001b[1;32m    245\u001b[0m \u001b[38;5;28;01mdef\u001b[39;00m \u001b[38;5;21memit\u001b[39m(\u001b[38;5;28mself\u001b[39m, event_name, \u001b[38;5;241m*\u001b[39m\u001b[38;5;241m*\u001b[39mkwargs):\n\u001b[1;32m    246\u001b[0m     \u001b[38;5;124;03m\"\"\"\u001b[39;00m\n\u001b[1;32m    247\u001b[0m \u001b[38;5;124;03m    Emit an event by name with arguments passed as keyword args.\u001b[39;00m\n\u001b[1;32m    248\u001b[0m \n\u001b[0;32m   (...)\u001b[0m\n\u001b[1;32m    254\u001b[0m \u001b[38;5;124;03m             handlers.\u001b[39;00m\n\u001b[1;32m    255\u001b[0m \u001b[38;5;124;03m    \"\"\"\u001b[39;00m\n\u001b[0;32m--> 256\u001b[0m     \u001b[38;5;28;01mreturn\u001b[39;00m \u001b[38;5;28;43mself\u001b[39;49m\u001b[38;5;241;43m.\u001b[39;49m\u001b[43m_emit\u001b[49m\u001b[43m(\u001b[49m\u001b[43mevent_name\u001b[49m\u001b[43m,\u001b[49m\u001b[43m \u001b[49m\u001b[43mkwargs\u001b[49m\u001b[43m)\u001b[49m\n",
      "File \u001b[0;32m~/anaconda3/envs/pytorch-nl2sql-py39/lib/python3.9/site-packages/botocore/hooks.py:239\u001b[0m, in \u001b[0;36mHierarchicalEmitter._emit\u001b[0;34m(self, event_name, kwargs, stop_on_response)\u001b[0m\n\u001b[1;32m    237\u001b[0m \u001b[38;5;28;01mfor\u001b[39;00m handler \u001b[38;5;129;01min\u001b[39;00m handlers_to_call:\n\u001b[1;32m    238\u001b[0m     logger\u001b[38;5;241m.\u001b[39mdebug(\u001b[38;5;124m'\u001b[39m\u001b[38;5;124mEvent \u001b[39m\u001b[38;5;132;01m%s\u001b[39;00m\u001b[38;5;124m: calling handler \u001b[39m\u001b[38;5;132;01m%s\u001b[39;00m\u001b[38;5;124m'\u001b[39m, event_name, handler)\n\u001b[0;32m--> 239\u001b[0m     response \u001b[38;5;241m=\u001b[39m \u001b[43mhandler\u001b[49m\u001b[43m(\u001b[49m\u001b[38;5;241;43m*\u001b[39;49m\u001b[38;5;241;43m*\u001b[39;49m\u001b[43mkwargs\u001b[49m\u001b[43m)\u001b[49m\n\u001b[1;32m    240\u001b[0m     responses\u001b[38;5;241m.\u001b[39mappend((handler, response))\n\u001b[1;32m    241\u001b[0m     \u001b[38;5;28;01mif\u001b[39;00m stop_on_response \u001b[38;5;129;01mand\u001b[39;00m response \u001b[38;5;129;01mis\u001b[39;00m \u001b[38;5;129;01mnot\u001b[39;00m \u001b[38;5;28;01mNone\u001b[39;00m:\n",
      "File \u001b[0;32m~/anaconda3/envs/pytorch-nl2sql-py39/lib/python3.9/site-packages/botocore/signers.py:105\u001b[0m, in \u001b[0;36mRequestSigner.handler\u001b[0;34m(self, operation_name, request, **kwargs)\u001b[0m\n\u001b[1;32m    100\u001b[0m \u001b[38;5;28;01mdef\u001b[39;00m \u001b[38;5;21mhandler\u001b[39m(\u001b[38;5;28mself\u001b[39m, operation_name\u001b[38;5;241m=\u001b[39m\u001b[38;5;28;01mNone\u001b[39;00m, request\u001b[38;5;241m=\u001b[39m\u001b[38;5;28;01mNone\u001b[39;00m, \u001b[38;5;241m*\u001b[39m\u001b[38;5;241m*\u001b[39mkwargs):\n\u001b[1;32m    101\u001b[0m     \u001b[38;5;66;03m# This is typically hooked up to the \"request-created\" event\u001b[39;00m\n\u001b[1;32m    102\u001b[0m     \u001b[38;5;66;03m# from a client's event emitter.  When a new request is created\u001b[39;00m\n\u001b[1;32m    103\u001b[0m     \u001b[38;5;66;03m# this method is invoked to sign the request.\u001b[39;00m\n\u001b[1;32m    104\u001b[0m     \u001b[38;5;66;03m# Don't call this method directly.\u001b[39;00m\n\u001b[0;32m--> 105\u001b[0m     \u001b[38;5;28;01mreturn\u001b[39;00m \u001b[38;5;28;43mself\u001b[39;49m\u001b[38;5;241;43m.\u001b[39;49m\u001b[43msign\u001b[49m\u001b[43m(\u001b[49m\u001b[43moperation_name\u001b[49m\u001b[43m,\u001b[49m\u001b[43m \u001b[49m\u001b[43mrequest\u001b[49m\u001b[43m)\u001b[49m\n",
      "File \u001b[0;32m~/anaconda3/envs/pytorch-nl2sql-py39/lib/python3.9/site-packages/botocore/signers.py:197\u001b[0m, in \u001b[0;36mRequestSigner.sign\u001b[0;34m(self, operation_name, request, region_name, signing_type, expires_in, signing_name)\u001b[0m\n\u001b[1;32m    194\u001b[0m     \u001b[38;5;28;01melse\u001b[39;00m:\n\u001b[1;32m    195\u001b[0m         \u001b[38;5;28;01mraise\u001b[39;00m e\n\u001b[0;32m--> 197\u001b[0m \u001b[43mauth\u001b[49m\u001b[38;5;241;43m.\u001b[39;49m\u001b[43madd_auth\u001b[49m\u001b[43m(\u001b[49m\u001b[43mrequest\u001b[49m\u001b[43m)\u001b[49m\n",
      "File \u001b[0;32m~/anaconda3/envs/pytorch-nl2sql-py39/lib/python3.9/site-packages/botocore/auth.py:423\u001b[0m, in \u001b[0;36mSigV4Auth.add_auth\u001b[0;34m(self, request)\u001b[0m\n\u001b[1;32m    421\u001b[0m \u001b[38;5;28;01mdef\u001b[39;00m \u001b[38;5;21madd_auth\u001b[39m(\u001b[38;5;28mself\u001b[39m, request):\n\u001b[1;32m    422\u001b[0m     \u001b[38;5;28;01mif\u001b[39;00m \u001b[38;5;28mself\u001b[39m\u001b[38;5;241m.\u001b[39mcredentials \u001b[38;5;129;01mis\u001b[39;00m \u001b[38;5;28;01mNone\u001b[39;00m:\n\u001b[0;32m--> 423\u001b[0m         \u001b[38;5;28;01mraise\u001b[39;00m NoCredentialsError()\n\u001b[1;32m    424\u001b[0m     datetime_now \u001b[38;5;241m=\u001b[39m datetime\u001b[38;5;241m.\u001b[39mdatetime\u001b[38;5;241m.\u001b[39mutcnow()\n\u001b[1;32m    425\u001b[0m     request\u001b[38;5;241m.\u001b[39mcontext[\u001b[38;5;124m'\u001b[39m\u001b[38;5;124mtimestamp\u001b[39m\u001b[38;5;124m'\u001b[39m] \u001b[38;5;241m=\u001b[39m datetime_now\u001b[38;5;241m.\u001b[39mstrftime(SIGV4_TIMESTAMP)\n",
      "\u001b[0;31mNoCredentialsError\u001b[0m: Unable to locate credentials"
     ]
    }
   ],
   "source": [
    "pre_processed_request = request_pre_processor.run(user_request)\n",
    "domain = pre_processed_request[app_consts.DOMAIN]\n",
    "pre_processed_request"
   ]
  },
  {
   "cell_type": "markdown",
   "metadata": {},
   "source": [
    "### Step 2 - Map identifiers/references to database IDs"
   ]
  },
  {
   "cell_type": "code",
   "execution_count": 6,
   "metadata": {
    "collapsed": false,
    "jupyter": {
     "outputs_hidden": false
    },
    "tags": []
   },
   "outputs": [
    {
     "data": {
      "text/plain": [
       "{'user_query': 'In what games did Isabelle Werth, Nedo Nadi and Allyson Felix compete?',\n",
       " 'intent': 'olympics',\n",
       " 'named_resources': {'allyson felix', 'isabelle werth', 'nedo nadi'},\n",
       " 'identifiers': [{'id': 129726, 'role': 32, 'name': 'isabelle werth'},\n",
       "  {'id': 84026, 'role': 32, 'name': 'nedo nadi'},\n",
       "  {'id': 34551, 'role': 32, 'name': 'allyson felix'}]}"
      ]
     },
     "execution_count": 6,
     "metadata": {},
     "output_type": "execute_result"
    }
   ],
   "source": [
    "named_resources = pre_processed_request[app_consts.NAMED_RESOURCES]\n",
    "if len(named_resources) > 0:\n",
    "    identifiers = id_service_facade.resolve(named_resources)\n",
    "    # add identifies to the pre_processed_request object\n",
    "    pre_processed_request[app_consts.IDENTIFIERS] = identifiers\n",
    "else:\n",
    "    pre_processed_request[app_consts.IDENTIFIERS] = []\n",
    "pre_processed_request"
   ]
  },
  {
   "cell_type": "markdown",
   "metadata": {},
   "source": [
    "### Step 3 - Prepare the prompt for LLM and generate SQL preamable if neccessary"
   ]
  },
  {
   "cell_type": "code",
   "execution_count": 7,
   "metadata": {
    "collapsed": false,
    "jupyter": {
     "outputs_hidden": false
    },
    "tags": []
   },
   "outputs": [
    {
     "data": {
      "text/plain": [
       "{'llm_prompt': 'You are a SQL expert. Given the following SQL tables definitions, generate SQL language to answer the user\\'s question. \\n\\nEach user question is about the Olympic Games.\\nProduce SQL ready for use with a SQLITE database.\\nOutput the result in a JSON format with one key \"sql\".\\nAnswer the question immediately without preamble.\\n*important* Strictly follow the rules in the <rule> tags for generating the SQL \\n\\n\\n<rule>\\nThe athletes_in_focus is a temporary table that has been pre-populated with the specific set of \\'id\\' values of the athletes applicable for this query.\\n</rule>\\n<rule>\\nNo filters need to be applied to the athletes_in_focus to get the correct set of athlete identifiers for queries  about specific athletes. \\n</rule>\\n<rule> \\nEven when the user\\'s question is about specific athletes, these athletes, and only these athletes, are in the athletes_in_focus table\\n</rule>\\n<rule>\\nOnly use tables and columns explicitly described with the <SQL> tags\\n</rule>\\n\\n<SQL>\\n-- The athletes_in_focus is a temporary table that is pre-populated with the exact set of \\'id\\' values for the athletes to be included in any queries about athletes.\\nCREATE temp TABLE athletes_in_focus (\\n  id INTEGER PRIMARY KEY,   -- the unique id for each athlete to be included in the query\\n);\\n\\n-- The games table holds information on the when and where the games were held\\nCREATE TABLE games (\\n  id INTEGER PRIMARY KEY,   -- the unique id for each olympic games\\n  games_year INTEGER DEFAULT NULL,  -- the year the specific olympic games being described\\n  games_name TEXT DEFAULT NULL,     -- the name of the specific olympic game (e.g. \\'1992 Summer\\')\\n  season TEXT DEFAULT NULL          -- the season of the olympic game (either \\'Summer\\' or \\'Winter\\')\\n);\\n\\n-- The games_city table enables bi-directional relationships between the games and the city where the games were held.\\nCREATE TABLE games_city (\\n  games_id INTEGER DEFAULT NULL,    -- the unique id for each olympic games\\n  city_id INTEGER DEFAULT NULL,     -- the unique id for each city where the games were held\\n  CONSTRAINT fk_gci_city FOREIGN KEY (city_id) REFERENCES city (id),\\n  CONSTRAINT fk_gci_gam FOREIGN KEY (games_id) REFERENCES games (id)\\n);\\n\\n-- The city table holds the names of cities that have hosted the olympic games\\nCREATE TABLE city (\\n  id INTEGER DEFAULT NULL,      -- the unique id the city where the games were held\\n  city_name TEXT DEFAULT NULL   -- the name of the city\\n);\\n\\n-- the games_competitor enables bi-derectional relationships between specific competitors and specific Olympic games.\\nCREATE TABLE games_competitor (\\n  id INTEGER PRIMARY KEY,       -- unique id for the record\\n  games_id INTEGER DEFAULT NULL,    -- the id of the specific olympic game\\n  person_id INTEGER DEFAULT NULL,   -- the unique id for the athlete)\\n  age INTEGER DEFAULT NULL,         -- the athlete\\'s age in years at the time of the specific olympic game\\n  CONSTRAINT fk_gc_gam FOREIGN KEY (games_id) REFERENCES games (id),\\n  CONSTRAINT fk_gc_per FOREIGN KEY (person_id) REFERENCES athletes_in_focus (id)\\n);\\n\\n-- the event tables holds essential information about each event held at the games\\nCREATE TABLE event (\\n  id INTEGER PRIMARY KEY, -- the unique id for the event\\n  sport_id INTEGER DEFAULT NULL,\\n  event_name TEXT DEFAULT NULL, -- the name of the event\\n  CONSTRAINT fk_ev_sp FOREIGN KEY (sport_id) REFERENCES sport (id)\\n);\\n\\n-- the competitor_event table has the list of athletes for each event and a medal-id for a competitors who won a medal\\nCREATE TABLE competitor_event (\\n  event_id INTEGER DEFAULT NULL,\\n  competitor_id INTEGER DEFAULT NULL,\\n  medal_id INTEGER DEFAULT NULL,\\n  CONSTRAINT fk_ce_com FOREIGN KEY (competitor_id) REFERENCES games_competitor (id),\\n  CONSTRAINT fk_ce_ev FOREIGN KEY (event_id) REFERENCES event (id),\\n  CONSTRAINT fk_ce_med FOREIGN KEY (medal_id) REFERENCES medal (id)\\n);\\n\\n-- The medal table holds the names of cities that have hosted the olympic games\\nCREATE TABLE medal (\\n  id INTEGER DEFAULT NULL,      -- the unique id the medal for the event\\n  medal_name TEXT DEFAULT NULL   -- the name of the medal\\n);\\n\\n</SQL>\\n<example>\\nquestion: What is the last games that the is in the database\\nanswer:\\n```{\"sql\": \"SELECT id, games_name, games_year, max(games_year) FROM games\"\\n}\\n```\\n</example>\\n\\n<example>\\nquestion: Which games did Rudolf Krpti compete?\\nanswer:\\n```{\"sql\": \"SELECT g.games_name, g.games_year \\nFROM athletes_in_focus a\\nJOIN games_competitor gc ON gc.person_id = a.id\\nJOIN games g ON gc.games_id = g.id;\" \\n}\\n```\\n</example>\\n\\n<example>\\nquestion: How many gold medals has Yukio Endo won?\\nanswer:\\n```{\"sql\": \"SELECT a.id, count(m.medal_name) as \"count\"\\nFROM athletes_in_focus a\\nINNER JOIN games_competitor gc ON gc.person_id = a.id\\nINNER JOIN competitor_event ce ON gc.id = ce.competitor_id\\nINNER JOIN medal m ON ce.medal_id = m.id\\nWHERE m.medal_name = \\'Gold\\' \\nGROUP BY a.id;\"\\n}\\n```\\n</example>\\n\\n<example>\\nquestion: Which events has Chris Hoy taken part in?\\nanswer:\\n```{\"sql\": \"SELECT distinct a.id, e.event_name\\nFROM athletes_in_focus a\\nINNER JOIN games_competitor gc ON a.id = gc.person_id\\nINNER JOIN competitor_event ce ON gc.id = ce.competitor_id\\nINNER JOIN event e ON ce.event_id = e.id;\"\\n}\\n```\\n</example>\\n\\n<example>\\nquestion: Which games did Tams Darnyi, Viktor An and Kathrin Boron compete?\\nanswer:\\n```{\"sql\": \"SELECT g.games_name, g.games_year \\nFROM athletes_in_focus a\\nJOIN games_competitor gc ON gc.person_id = a.id\\nJOIN games g ON gc.games_id = g.id;\"\\n}\\n```\\n</example>\\n\\n<example>\\nquestion: How many gold medals have Danuta Kozk and Michael Johnson won?\\nanswer:\\n```{\"sql\": \"SELECT a.id, count(m.medal_name) as \"count\"\\nFROM athletes_in_focus a\\nINNER JOIN games_competitor gc ON gc.person_id = a.id\\nINNER JOIN competitor_event ce ON gc.id = ce.competitor_id\\nINNER JOIN medal m ON ce.medal_id = m.id\\nWHERE m.medal_name = \\'Gold\\' \\nGROUP BY a.id;\"\\n}\\n```\\n</example>\\n\\n<example>\\nquestion: Which events has Sawao Kato, Reiner Klimke, Janica Kosteli and Danuta Kozk taken part in?\\nanswer:\\n```{\"sql\": \"SELECT distinct a.id, e.event_name\\nFROM athletes_in_focus a\\nINNER JOIN games_competitor gc ON a.id = gc.person_id\\nINNER JOIN competitor_event ce ON gc.id = ce.competitor_id\\nINNER JOIN event e ON ce.event_id = e.id;\"\\n}\\n```\\n</example>\\nquestion: In what games did Isabelle Werth, Nedo Nadi and Allyson Felix compete?\\n```\\n',\n",
       " 'sql_preamble': ['\\nCREATE temp TABLE athletes_in_focus (\\n  row_id INTEGER PRIMARY KEY,\\n  id INTEGER,\\n  full_name TEXT DEFAULT NULL);\\n',\n",
       "  \"INSERT INTO athletes_in_focus VALUES (1,129726,'isabelle werth'), (2,84026,'nedo nadi'), (3,34551,'allyson felix');\",\n",
       "  '']}"
      ]
     },
     "execution_count": 7,
     "metadata": {},
     "output_type": "execute_result"
    }
   ],
   "source": [
    "prepared_request = request_preparer.run(pre_processed_request)\n",
    "prepared_request"
   ]
  },
  {
   "cell_type": "markdown",
   "metadata": {},
   "source": [
    "### Step 4 - Call the LLM to generate the SQL"
   ]
  },
  {
   "cell_type": "code",
   "execution_count": 8,
   "metadata": {
    "collapsed": false,
    "jupyter": {
     "outputs_hidden": false
    }
   },
   "outputs": [
    {
     "data": {
      "text/plain": [
       "{'sql': 'SELECT g.games_name, g.games_year FROM athletes_in_focus a JOIN games_competitor gc ON gc.person_id = a.id JOIN games g ON gc.games_id = g.id;'}"
      ]
     },
     "execution_count": 8,
     "metadata": {},
     "output_type": "execute_result"
    }
   ],
   "source": [
    "llm_response = llm_service_facade.invoke(prepared_request[app_consts.LLM_PROMPT])\n",
    "generated_sql = llm_response[app_consts.LLM_OUTPUT]\n",
    "generated_sql"
   ]
  },
  {
   "cell_type": "markdown",
   "metadata": {},
   "source": [
    "### Step 5 - Run the generated SQL against the RDBMS"
   ]
  },
  {
   "cell_type": "code",
   "execution_count": 9,
   "metadata": {
    "collapsed": false,
    "jupyter": {
     "outputs_hidden": false
    }
   },
   "outputs": [
    {
     "data": {
      "text/plain": [
       "{'rdbms_output': [('games_name', 'games_year'),\n",
       "  ('2004 Summer', 2004),\n",
       "  ('2008 Summer', 2008),\n",
       "  ('2012 Summer', 2012),\n",
       "  ('2016 Summer', 2016),\n",
       "  ('1912 Summer', 1912),\n",
       "  ('1920 Summer', 1920),\n",
       "  ('1992 Summer', 1992),\n",
       "  ('1996 Summer', 1996),\n",
       "  ('2000 Summer', 2000),\n",
       "  ('2008 Summer', 2008),\n",
       "  ('2016 Summer', 2016)],\n",
       " 'processing_status': 'success'}"
      ]
     },
     "execution_count": 9,
     "metadata": {},
     "output_type": "execute_result"
    }
   ],
   "source": [
    "sql_script = prepared_request[app_consts.SQL_PREAMBLE] + [generated_sql[app_consts.SQL]]\n",
    "database = app_consts.get_database_for_domain(domain)\n",
    "results = rdbms_service_facade.execute_sql(database, sql_script)\n",
    "results"
   ]
  }
 ],
 "metadata": {
  "kernelspec": {
   "display_name": "pytorch-nl2sql-py39",
   "language": "python",
   "name": "python3"
  },
  "language_info": {
   "codemirror_mode": {
    "name": "ipython",
    "version": 3
   },
   "file_extension": ".py",
   "mimetype": "text/x-python",
   "name": "python",
   "nbconvert_exporter": "python",
   "pygments_lexer": "ipython3",
   "version": "3.9.13"
  }
 },
 "nbformat": 4,
 "nbformat_minor": 4
}
