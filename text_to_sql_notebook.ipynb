{
 "cells": [
  {
   "cell_type": "code",
   "execution_count": 1,
   "metadata": {
    "tags": []
   },
   "outputs": [
    {
     "name": "stdout",
     "output_type": "stream",
     "text": [
      "Note: you may need to restart the kernel to use updated packages.\n"
     ]
    }
   ],
   "source": [
    "%pip install -r requirements.txt -Uq"
   ]
  },
  {
   "cell_type": "code",
   "execution_count": 2,
   "metadata": {
    "tags": []
   },
   "outputs": [],
   "source": [
    "# import the class modules that support the Text to SQL pipeline\n",
    "import app_constants as app_consts\n",
    "import identify_service_facade\n",
    "import llm_facade\n",
    "import rdbms_facade\n",
    "\n",
    "import pre_process_request\n",
    "import prepare_request\n",
    "import test_cases"
   ]
  },
  {
   "cell_type": "code",
   "execution_count": 3,
   "metadata": {
    "collapsed": false,
    "jupyter": {
     "outputs_hidden": false
    },
    "tags": []
   },
   "outputs": [],
   "source": [
    "# Instantiate objects for the classes that will be used\n",
    "test_user_requests = test_cases.TestCases()\n",
    "llm_service_facade = llm_facade.LlmFacade(app_consts.BEDROCK_MODEL_ID)\n",
    "id_service_facade = identify_service_facade.IdentityServiceFacade()\n",
    "rdbms_service_facade = rdbms_facade.RdbmsFacade()\n",
    "\n",
    "request_pre_processor = pre_process_request.PreProcessRequest(llm_service_facade)\n",
    "request_preparer = prepare_request.PrepareRequest()"
   ]
  },
  {
   "cell_type": "markdown",
   "metadata": {},
   "source": [
    "### Pull an example user request from the test set"
   ]
  },
  {
   "cell_type": "code",
   "execution_count": 4,
   "metadata": {
    "ExecuteTime": {
     "end_time": "2024-08-05T20:45:25.449370Z",
     "start_time": "2024-08-05T20:45:25.322877Z"
    },
    "collapsed": false,
    "jupyter": {
     "outputs_hidden": false
    },
    "tags": []
   },
   "outputs": [
    {
     "data": {
      "text/plain": [
       "'In what games did Isabelle Werth, Nedo Nadi and Allyson Felix compete?'"
      ]
     },
     "execution_count": 4,
     "metadata": {},
     "output_type": "execute_result"
    }
   ],
   "source": [
    "user_request = test_user_requests.get_test_case(4)\n",
    "user_request"
   ]
  },
  {
   "cell_type": "markdown",
   "metadata": {},
   "source": [
    "### Step 1 - Pre-process the use request, determine their intent, and if there are identifiers that need to be mapped to IDs"
   ]
  },
  {
   "cell_type": "code",
   "execution_count": 5,
   "metadata": {
    "tags": []
   },
   "outputs": [
    {
     "data": {
      "text/plain": [
       "{'user_query': 'In what games did Isabelle Werth, Nedo Nadi and Allyson Felix compete?',\n",
       " 'intent': 'olympics',\n",
       " 'named_resources': {'allyson felix', 'isabelle werth', 'nedo nadi'}}"
      ]
     },
     "execution_count": 5,
     "metadata": {},
     "output_type": "execute_result"
    }
   ],
   "source": [
    "pre_processed_request = request_pre_processor.run(user_request)\n",
    "intent = pre_processed_request[app_consts.INTENT]\n",
    "pre_processed_request"
   ]
  },
  {
   "cell_type": "markdown",
   "metadata": {},
   "source": [
    "### Step 2 - Map identifiers/references to database IDs"
   ]
  },
  {
   "cell_type": "code",
   "execution_count": 6,
   "metadata": {
    "collapsed": false,
    "jupyter": {
     "outputs_hidden": false
    },
    "tags": []
   },
   "outputs": [
    {
     "data": {
      "text/plain": [
       "{'user_query': 'In what games did Isabelle Werth, Nedo Nadi and Allyson Felix compete?',\n",
       " 'intent': 'olympics',\n",
       " 'named_resources': {'allyson felix', 'isabelle werth', 'nedo nadi'},\n",
       " 'identifiers': [{'id': 34551, 'role': 32, 'name': 'allyson felix'},\n",
       "  {'id': 129726, 'role': 32, 'name': 'isabelle werth'},\n",
       "  {'id': 84026, 'role': 32, 'name': 'nedo nadi'}]}"
      ]
     },
     "execution_count": 6,
     "metadata": {},
     "output_type": "execute_result"
    }
   ],
   "source": [
    "named_resources = pre_processed_request[app_consts.NAMED_RESOURCES]\n",
    "if len(named_resources) > 0:\n",
    "    identifiers = id_service_facade.resolve(named_resources)\n",
    "    # add identifies to the pre_processed_request object\n",
    "    pre_processed_request[app_consts.IDENTIFIERS] = identifiers\n",
    "else:\n",
    "    pre_processed_request[app_consts.IDENTIFIERS] = []\n",
    "pre_processed_request"
   ]
  },
  {
   "cell_type": "markdown",
   "metadata": {},
   "source": [
    "### Step 3 - Prepare the prompt for LLM and generate SQL preamable if neccessary"
   ]
  },
  {
   "cell_type": "code",
   "execution_count": 7,
   "metadata": {
    "collapsed": false,
    "jupyter": {
     "outputs_hidden": false
    },
    "tags": []
   },
   "outputs": [
    {
     "data": {
      "text/plain": [
       "{'llm_prompt': 'You are a SQL expert. Given the following SQL tables definitions, generate SQL language to answer the user\\'s question. \\n\\nEach user question is about the Olympic Games.\\nProduce SQL ready for use with a SQLITE database.\\nOutput the result in a JSON format with one key \"sql\".\\nAnswer the question immediately without preamble.\\n*important* Strictly follow the rules in the <rule> tags for generating the SQL \\n\\n\\n<rule>\\nThe athletes_in_focus is a temporary table that has been pre-populated with the specific set of \\'id\\' values of the athletes applicable for this query.\\n</rule>\\n<rule>\\nNo filters need to be applied to the athletes_in_focus to get the correct set of athlete identifiers for queries  about specific athletes. \\n</rule>\\n<rule> \\nEven when the user\\'s question is about specific athletes, these athletes, and only these athletes, are in the athletes_in_focus table\\n</rule>\\n<rule>\\nOnly use tables and columns explicitly described with the <SQL> tags\\n</rule>\\n\\n<SQL>\\n-- The athletes_in_focus is a temporary table that is pre-populated with the exact set of \\'id\\' values for the athletes to be included in any queries about athletes.\\nCREATE temp TABLE athletes_in_focus (\\n  id INTEGER PRIMARY KEY,   -- the unique id for each athlete to be included in the query\\n);\\n\\n-- The games table holds information on the when and where the games were held\\nCREATE TABLE games (\\n  id INTEGER PRIMARY KEY,   -- the unique id for each olympic games\\n  games_year INTEGER DEFAULT NULL,  -- the year the specific olympic games being described\\n  games_name TEXT DEFAULT NULL,     -- the name of the specific olympic game (e.g. \\'1992 Summer\\')\\n  season TEXT DEFAULT NULL          -- the season of the olympic game (either \\'Summer\\' or \\'Winter\\')\\n);\\n\\n-- The games_city table enables bi-directional relationships between the games and the city where the games were held.\\nCREATE TABLE games_city (\\n  games_id INTEGER DEFAULT NULL,    -- the unique id for each olympic games\\n  city_id INTEGER DEFAULT NULL,     -- the unique id for each city where the games were held\\n  CONSTRAINT fk_gci_city FOREIGN KEY (city_id) REFERENCES city (id),\\n  CONSTRAINT fk_gci_gam FOREIGN KEY (games_id) REFERENCES games (id)\\n);\\n\\n-- The city table holds the names of cities that have hosted the olympic games\\nCREATE TABLE city (\\n  id INTEGER DEFAULT NULL,      -- the unique id the city where the games were held\\n  city_name TEXT DEFAULT NULL   -- the name of the city\\n);\\n\\n-- the games_competitor enables bi-derectional relationships between specific competitors and specific Olympic games.\\nCREATE TABLE games_competitor (\\n  id INTEGER PRIMARY KEY,       -- unique id for the record\\n  games_id INTEGER DEFAULT NULL,    -- the id of the specific olympic game\\n  person_id INTEGER DEFAULT NULL,   -- the unique id for the athlete)\\n  age INTEGER DEFAULT NULL,         -- the athlete\\'s age in years at the time of the specific olympic game\\n  CONSTRAINT fk_gc_gam FOREIGN KEY (games_id) REFERENCES games (id),\\n  CONSTRAINT fk_gc_per FOREIGN KEY (person_id) REFERENCES athletes_in_focus (id)\\n);\\n\\n-- the event tables holds essential information about each event held at the games\\nCREATE TABLE event (\\n  id INTEGER PRIMARY KEY, -- the unique id for the event\\n  sport_id INTEGER DEFAULT NULL,\\n  event_name TEXT DEFAULT NULL, -- the name of the event\\n  CONSTRAINT fk_ev_sp FOREIGN KEY (sport_id) REFERENCES sport (id)\\n);\\n\\n-- the competitor_event table has the list of athletes for each event and a medal-id for a competitors who won a medal\\nCREATE TABLE competitor_event (\\n  event_id INTEGER DEFAULT NULL,\\n  competitor_id INTEGER DEFAULT NULL,\\n  medal_id INTEGER DEFAULT NULL,\\n  CONSTRAINT fk_ce_com FOREIGN KEY (competitor_id) REFERENCES games_competitor (id),\\n  CONSTRAINT fk_ce_ev FOREIGN KEY (event_id) REFERENCES event (id),\\n  CONSTRAINT fk_ce_med FOREIGN KEY (medal_id) REFERENCES medal (id)\\n);\\n\\n-- The medal table holds the names of cities that have hosted the olympic games\\nCREATE TABLE medal (\\n  id INTEGER DEFAULT NULL,      -- the unique id the medal for the event\\n  medal_name TEXT DEFAULT NULL   -- the name of the medal\\n);\\n\\n</SQL>\\n<example>\\nquestion: What is the last games that the is in the database\\nanswer:\\n```{\"sql\": \"SELECT id, games_name, games_year, max(games_year) FROM games\"\\n}\\n```\\n</example>\\n\\n<example>\\nquestion: Which games did Rudolf Krpti compete?\\nanswer:\\n```{\"sql\": \"SELECT g.games_name, g.games_year \\nFROM athletes_in_focus a\\nJOIN games_competitor gc ON gc.person_id = a.id\\nJOIN games g ON gc.games_id = g.id;\" \\n}\\n```\\n</example>\\n\\n<example>\\nquestion: How many gold medals has Yukio Endo won?\\nanswer:\\n```{\"sql\": \"SELECT a.id, count(m.medal_name) as \"count\"\\nFROM athletes_in_focus a\\nINNER JOIN games_competitor gc ON gc.person_id = a.id\\nINNER JOIN competitor_event ce ON gc.id = ce.competitor_id\\nINNER JOIN medal m ON ce.medal_id = m.id\\nWHERE m.medal_name = \\'Gold\\' \\nGROUP BY a.id;\"\\n}\\n```\\n</example>\\n\\n<example>\\nquestion: Which events has Chris Hoy taken part in?\\nanswer:\\n```{\"sql\": \"SELECT distinct a.id, e.event_name\\nFROM athletes_in_focus a\\nINNER JOIN games_competitor gc ON a.id = gc.person_id\\nINNER JOIN competitor_event ce ON gc.id = ce.competitor_id\\nINNER JOIN event e ON ce.event_id = e.id;\"\\n}\\n```\\n</example>\\n\\n<example>\\nquestion: Which games did Tams Darnyi, Viktor An and Kathrin Boron compete?\\nanswer:\\n```{\"sql\": \"SELECT g.games_name, g.games_year \\nFROM athletes_in_focus a\\nJOIN games_competitor gc ON gc.person_id = a.id\\nJOIN games g ON gc.games_id = g.id;\"\\n}\\n```\\n</example>\\n\\n<example>\\nquestion: How many gold medals have Danuta Kozk and Michael Johnson won?\\nanswer:\\n```{\"sql\": \"SELECT a.id, count(m.medal_name) as \"count\"\\nFROM athletes_in_focus a\\nINNER JOIN games_competitor gc ON gc.person_id = a.id\\nINNER JOIN competitor_event ce ON gc.id = ce.competitor_id\\nINNER JOIN medal m ON ce.medal_id = m.id\\nWHERE m.medal_name = \\'Gold\\' \\nGROUP BY a.id;\"\\n}\\n```\\n</example>\\n\\n<example>\\nquestion: Which events has Sawao Kato, Reiner Klimke, Janica Kosteli and Danuta Kozk taken part in?\\nanswer:\\n```{\"sql\": \"SELECT distinct a.id, e.event_name\\nFROM athletes_in_focus a\\nINNER JOIN games_competitor gc ON a.id = gc.person_id\\nINNER JOIN competitor_event ce ON gc.id = ce.competitor_id\\nINNER JOIN event e ON ce.event_id = e.id;\"\\n}\\n```\\n</example>\\nquestion: In what games did Isabelle Werth, Nedo Nadi and Allyson Felix compete?\\n```\\n',\n",
       " 'sql_preamble': ['\\nCREATE temp TABLE athletes_in_focus (\\n  row_id INTEGER PRIMARY KEY,\\n  id INTEGER,\\n  full_name TEXT DEFAULT NULL);\\n',\n",
       "  \"INSERT INTO athletes_in_focus VALUES (1,34551,'allyson felix'), (2,129726,'isabelle werth'), (3,84026,'nedo nadi');\",\n",
       "  '']}"
      ]
     },
     "execution_count": 7,
     "metadata": {},
     "output_type": "execute_result"
    }
   ],
   "source": [
    "prepared_request = request_preparer.run(pre_processed_request)\n",
    "prepared_request"
   ]
  },
  {
   "cell_type": "markdown",
   "metadata": {},
   "source": [
    "### Step 4 - Call the LLM to generate the SQL"
   ]
  },
  {
   "cell_type": "code",
   "execution_count": 8,
   "metadata": {
    "collapsed": false,
    "jupyter": {
     "outputs_hidden": false
    }
   },
   "outputs": [
    {
     "data": {
      "text/plain": [
       "{'sql': 'SELECT g.games_name, g.games_year FROM athletes_in_focus a JOIN games_competitor gc ON gc.person_id = a.id JOIN games g ON gc.games_id = g.id;'}"
      ]
     },
     "execution_count": 8,
     "metadata": {},
     "output_type": "execute_result"
    }
   ],
   "source": [
    "llm_response = llm_service_facade.invoke(prepared_request[app_consts.LLM_PROMPT])\n",
    "generated_sql = llm_response[app_consts.LLM_OUTPUT]\n",
    "generated_sql"
   ]
  },
  {
   "cell_type": "markdown",
   "metadata": {},
   "source": [
    "### Step 5 - Run the generated SQL against the RDBMS"
   ]
  },
  {
   "cell_type": "code",
   "execution_count": 9,
   "metadata": {
    "collapsed": false,
    "jupyter": {
     "outputs_hidden": false
    }
   },
   "outputs": [
    {
     "data": {
      "text/plain": [
       "{'rdbms_output': [('games_name', 'games_year'),\n",
       "  ('2004 Summer', 2004),\n",
       "  ('2008 Summer', 2008),\n",
       "  ('2012 Summer', 2012),\n",
       "  ('2016 Summer', 2016),\n",
       "  ('1912 Summer', 1912),\n",
       "  ('1920 Summer', 1920),\n",
       "  ('1992 Summer', 1992),\n",
       "  ('1996 Summer', 1996),\n",
       "  ('2000 Summer', 2000),\n",
       "  ('2008 Summer', 2008),\n",
       "  ('2016 Summer', 2016)],\n",
       " 'processing_status': 'success'}"
      ]
     },
     "execution_count": 9,
     "metadata": {},
     "output_type": "execute_result"
    }
   ],
   "source": [
    "sql_script = prepared_request[app_consts.SQL_PREAMBLE] + [generated_sql[app_consts.SQL]]\n",
    "database = app_consts.get_database_for_intent(intent)\n",
    "results = rdbms_service_facade.execute_sql(database, sql_script)\n",
    "results"
   ]
  }
 ],
 "metadata": {
  "kernelspec": {
   "display_name": "conda_pytorch_p310",
   "language": "python",
   "name": "conda_pytorch_p310"
  },
  "language_info": {
   "codemirror_mode": {
    "name": "ipython",
    "version": 3
   },
   "file_extension": ".py",
   "mimetype": "text/x-python",
   "name": "python",
   "nbconvert_exporter": "python",
   "pygments_lexer": "ipython3",
   "version": "3.10.14"
  }
 },
 "nbformat": 4,
 "nbformat_minor": 4
}
