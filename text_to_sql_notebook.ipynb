{
 "cells": [
  {
   "cell_type": "code",
   "execution_count": null,
   "metadata": {
    "tags": []
   },
   "outputs": [],
   "source": [
    "%pip install -r requirements.txt -Uq"
   ]
  },
  {
   "cell_type": "code",
   "execution_count": null,
   "metadata": {
    "tags": []
   },
   "outputs": [],
   "source": [
    "# import the class modules that support the Text to SQL pipeline\n",
    "import app_constants as app_consts\n",
    "import identity_service_facade\n",
    "import llm_facade\n",
    "import rdbms_facade\n",
    "\n",
    "import pre_process_request\n",
    "import prepare_request\n",
    "import test_cases"
   ]
  },
  {
   "cell_type": "code",
   "execution_count": null,
   "metadata": {
    "collapsed": false,
    "jupyter": {
     "outputs_hidden": false
    },
    "tags": []
   },
   "outputs": [],
   "source": [
    "# Instantiate objects for the classes that will be used\n",
    "test_user_requests = test_cases.TestCases()\n",
    "llm_service_facade = llm_facade.LlmFacade(app_consts.BEDROCK_MODEL_ID)\n",
    "id_service_facade = identity_service_facade.IdentityServiceFacade()\n",
    "rdbms_service_facade = rdbms_facade.RdbmsFacade()\n",
    "\n",
    "request_pre_processor = pre_process_request.PreProcessRequest(llm_service_facade)\n",
    "request_preparer = prepare_request.PrepareRequest()"
   ]
  },
  {
   "cell_type": "markdown",
   "metadata": {},
   "source": [
    "### Pull an example user request from the test set"
   ]
  },
  {
   "cell_type": "code",
   "execution_count": null,
   "metadata": {
    "ExecuteTime": {
     "end_time": "2024-08-05T20:45:25.449370Z",
     "start_time": "2024-08-05T20:45:25.322877Z"
    },
    "collapsed": false,
    "jupyter": {
     "outputs_hidden": false
    },
    "tags": []
   },
   "outputs": [],
   "source": [
    "user_request = test_user_requests.get_test_case(4)\n",
    "user_request"
   ]
  },
  {
   "cell_type": "markdown",
   "metadata": {},
   "source": [
    "### Step 1 - Pre-process the use request, determine their domain, and if there are identifiers that need to be mapped to IDs"
   ]
  },
  {
   "cell_type": "code",
   "execution_count": null,
   "metadata": {
    "tags": []
   },
   "outputs": [],
   "source": [
    "pre_processed_request = request_pre_processor.run(user_request)\n",
    "domain = pre_processed_request[app_consts.DOMAIN]\n",
    "pre_processed_request"
   ]
  },
  {
   "cell_type": "markdown",
   "metadata": {},
   "source": [
    "### Step 2 - Map identifiers/references to database IDs"
   ]
  },
  {
   "cell_type": "code",
   "execution_count": null,
   "metadata": {
    "collapsed": false,
    "jupyter": {
     "outputs_hidden": false
    },
    "tags": []
   },
   "outputs": [],
   "source": [
    "named_resources = pre_processed_request[app_consts.NAMED_RESOURCES]\n",
    "if len(named_resources) > 0:\n",
    "    identifiers = id_service_facade.resolve(named_resources)\n",
    "    # add identifies to the pre_processed_request object\n",
    "    pre_processed_request[app_consts.IDENTIFIERS] = identifiers\n",
    "else:\n",
    "    pre_processed_request[app_consts.IDENTIFIERS] = []\n",
    "pre_processed_request"
   ]
  },
  {
   "cell_type": "markdown",
   "metadata": {},
   "source": [
    "### Step 3 - Prepare the prompt for LLM and generate SQL preamable if neccessary"
   ]
  },
  {
   "cell_type": "code",
   "execution_count": null,
   "metadata": {
    "collapsed": false,
    "jupyter": {
     "outputs_hidden": false
    },
    "tags": []
   },
   "outputs": [],
   "source": [
    "prepared_request = request_preparer.run(pre_processed_request)\n",
    "prepared_request"
   ]
  },
  {
   "cell_type": "markdown",
   "metadata": {},
   "source": [
    "### Step 4 - Call the LLM to generate the SQL"
   ]
  },
  {
   "cell_type": "code",
   "execution_count": null,
   "metadata": {
    "collapsed": false,
    "jupyter": {
     "outputs_hidden": false
    },
    "tags": []
   },
   "outputs": [],
   "source": [
    "llm_response = llm_service_facade.invoke(prepared_request[app_consts.LLM_PROMPT])\n",
    "generated_sql = llm_response[app_consts.LLM_OUTPUT]\n",
    "generated_sql"
   ]
  },
  {
   "cell_type": "markdown",
   "metadata": {},
   "source": [
    "### Step 5 - Run the generated SQL against the RDBMS"
   ]
  },
  {
   "cell_type": "code",
   "execution_count": null,
   "metadata": {
    "collapsed": false,
    "jupyter": {
     "outputs_hidden": false
    },
    "tags": []
   },
   "outputs": [],
   "source": [
    "sql_script = prepared_request[app_consts.SQL_PREAMBLE] + [generated_sql[app_consts.SQL]]\n",
    "database = app_consts.get_database_for_domain(domain)\n",
    "results = rdbms_service_facade.execute_sql(database, sql_script)\n",
    "results"
   ]
  }
 ],
 "metadata": {
  "kernelspec": {
   "display_name": "conda_pytorch_p310",
   "language": "python",
   "name": "conda_pytorch_p310"
  },
  "language_info": {
   "codemirror_mode": {
    "name": "ipython",
    "version": 3
   },
   "file_extension": ".py",
   "mimetype": "text/x-python",
   "name": "python",
   "nbconvert_exporter": "python",
   "pygments_lexer": "ipython3",
   "version": "3.10.14"
  }
 },
 "nbformat": 4,
 "nbformat_minor": 4
}
